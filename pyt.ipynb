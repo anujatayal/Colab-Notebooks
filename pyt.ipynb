{
  "nbformat": 4,
  "nbformat_minor": 0,
  "metadata": {
    "colab": {
      "name": "pyt.ipynb",
      "provenance": [],
      "collapsed_sections": [],
      "authorship_tag": "ABX9TyPnZwV9B0fgMM/J54advBbN",
      "include_colab_link": true
    },
    "kernelspec": {
      "name": "python3",
      "display_name": "Python 3"
    }
  },
  "cells": [
    {
      "cell_type": "markdown",
      "metadata": {
        "id": "view-in-github",
        "colab_type": "text"
      },
      "source": [
        "<a href=\"https://colab.research.google.com/github/anujatayal/Colab-Notebooks/blob/main/pyt.ipynb\" target=\"_parent\"><img src=\"https://colab.research.google.com/assets/colab-badge.svg\" alt=\"Open In Colab\"/></a>"
      ]
    },
    {
      "cell_type": "code",
      "metadata": {
        "colab": {
          "base_uri": "https://localhost:8080/"
        },
        "id": "quhZEq-sGSk2",
        "outputId": "f4347b57-3ed0-4385-f77c-436e27c371fd"
      },
      "source": [
        "import numpy as np\n",
        "x=np.arange(11,dtype=np.float32)\n",
        "x.shape"
      ],
      "execution_count": null,
      "outputs": [
        {
          "output_type": "execute_result",
          "data": {
            "text/plain": [
              "(11,)"
            ]
          },
          "metadata": {
            "tags": []
          },
          "execution_count": 22
        }
      ]
    },
    {
      "cell_type": "code",
      "metadata": {
        "id": "9kYIAF0EGhUN"
      },
      "source": [
        "x=np.reshape(x,(-1,1))"
      ],
      "execution_count": null,
      "outputs": []
    },
    {
      "cell_type": "code",
      "metadata": {
        "id": "rMfR7CzYGieP"
      },
      "source": [
        "y=2*x+1"
      ],
      "execution_count": null,
      "outputs": []
    },
    {
      "cell_type": "code",
      "metadata": {
        "colab": {
          "base_uri": "https://localhost:8080/"
        },
        "id": "3EISiLQMKOEd",
        "outputId": "3e9584be-8333-441d-e1e6-bb84a998f6c7"
      },
      "source": [
        "y.dtype"
      ],
      "execution_count": null,
      "outputs": [
        {
          "output_type": "execute_result",
          "data": {
            "text/plain": [
              "dtype('float32')"
            ]
          },
          "metadata": {
            "tags": []
          },
          "execution_count": 26
        }
      ]
    },
    {
      "cell_type": "code",
      "metadata": {
        "id": "9Q2T0Cv5Gp22"
      },
      "source": [
        "import torch\n",
        "from torch.autograd import Variable\n",
        "class linearRegression(torch.nn.Module):\n",
        "  def __init__(self,inputSize,outputSize):\n",
        "    super(linearRegression,self).__init__()\n",
        "    self.linear=torch.nn.Linear(inputSize,outputSize)\n",
        "  \n",
        "  def forward(self,x):\n",
        "    out=self.linear(x)\n",
        "    return out"
      ],
      "execution_count": null,
      "outputs": []
    },
    {
      "cell_type": "code",
      "metadata": {
        "id": "q1thRfOyG_HW"
      },
      "source": [
        "inputDim=1\n",
        "outputDim=1\n",
        "learningRate=0.01\n",
        "epochs=10\n",
        "model=linearRegression(inputDim,outputDim)"
      ],
      "execution_count": null,
      "outputs": []
    },
    {
      "cell_type": "code",
      "metadata": {
        "id": "Tu5wq0ZsISCv"
      },
      "source": [
        "criterion=torch.nn.MSELoss()\n",
        "optimizer=torch.optim.SGD(model.parameters(),lr=learningRate)"
      ],
      "execution_count": null,
      "outputs": []
    },
    {
      "cell_type": "code",
      "metadata": {
        "colab": {
          "base_uri": "https://localhost:8080/"
        },
        "id": "EodNKyV7KqpE",
        "outputId": "994d7eb7-bdb7-4814-bda5-80be49878aac"
      },
      "source": [
        "y"
      ],
      "execution_count": null,
      "outputs": [
        {
          "output_type": "execute_result",
          "data": {
            "text/plain": [
              "array([[ 1.],\n",
              "       [ 3.],\n",
              "       [ 5.],\n",
              "       [ 7.],\n",
              "       [ 9.],\n",
              "       [11.],\n",
              "       [13.],\n",
              "       [15.],\n",
              "       [17.],\n",
              "       [19.],\n",
              "       [21.]], dtype=float32)"
            ]
          },
          "metadata": {
            "tags": []
          },
          "execution_count": 35
        }
      ]
    },
    {
      "cell_type": "code",
      "metadata": {
        "colab": {
          "base_uri": "https://localhost:8080/"
        },
        "id": "23ikT3UwIYbH",
        "outputId": "36977a85-d788-42ee-fff1-6fccffe26f3d"
      },
      "source": [
        "for epoch in range(epochs):\n",
        "  inputs=Variable(torch.from_numpy(x))\n",
        "  labels=Variable(torch.from_numpy(y))\n",
        "  optimizer.zero_grad()\n",
        "  outputs=model(inputs)\n",
        "  loss=criterion(outputs,labels)\n",
        "  print(\"outputs\",outputs,loss)\n",
        "  loss.backward()\n",
        "  optimizer.step()\n",
        "  print('epoch {},loss {}'.format(epoch,loss.item()))"
      ],
      "execution_count": null,
      "outputs": [
        {
          "output_type": "stream",
          "text": [
            "outputs tensor([[0.3705],\n",
            "        [0.9599],\n",
            "        [1.5492],\n",
            "        [2.1386],\n",
            "        [2.7280],\n",
            "        [3.3174],\n",
            "        [3.9067],\n",
            "        [4.4961],\n",
            "        [5.0855],\n",
            "        [5.6748],\n",
            "        [6.2642]], grad_fn=<AddmmBackward>) tensor(78.9218, grad_fn=<MseLossBackward>)\n",
            "epoch 0,loss 78.92178344726562\n",
            "outputs tensor([[ 0.5241],\n",
            "        [ 2.1639],\n",
            "        [ 3.8037],\n",
            "        [ 5.4434],\n",
            "        [ 7.0832],\n",
            "        [ 8.7230],\n",
            "        [10.3627],\n",
            "        [12.0025],\n",
            "        [13.6422],\n",
            "        [15.2820],\n",
            "        [16.9218]], grad_fn=<AddmmBackward>) tensor(6.4826, grad_fn=<MseLossBackward>)\n",
            "epoch 1,loss 6.48263692855835\n",
            "outputs tensor([[ 0.5697],\n",
            "        [ 2.5092],\n",
            "        [ 4.4487],\n",
            "        [ 6.3882],\n",
            "        [ 8.3277],\n",
            "        [10.2673],\n",
            "        [12.2068],\n",
            "        [14.1463],\n",
            "        [16.0858],\n",
            "        [18.0253],\n",
            "        [19.9648]], grad_fn=<AddmmBackward>) tensor(0.5735, grad_fn=<MseLossBackward>)\n",
            "epoch 2,loss 0.5734989643096924\n",
            "outputs tensor([[ 0.5843],\n",
            "        [ 2.6092],\n",
            "        [ 4.6341],\n",
            "        [ 6.6590],\n",
            "        [ 8.6839],\n",
            "        [10.7088],\n",
            "        [12.7337],\n",
            "        [14.7585],\n",
            "        [16.7834],\n",
            "        [18.8083],\n",
            "        [20.8332]], grad_fn=<AddmmBackward>) tensor(0.0910, grad_fn=<MseLossBackward>)\n",
            "epoch 3,loss 0.09100914001464844\n",
            "outputs tensor([[ 0.5902],\n",
            "        [ 2.6392],\n",
            "        [ 4.6882],\n",
            "        [ 6.7373],\n",
            "        [ 8.7863],\n",
            "        [10.8353],\n",
            "        [12.8844],\n",
            "        [14.9334],\n",
            "        [16.9824],\n",
            "        [19.0315],\n",
            "        [21.0805]], grad_fn=<AddmmBackward>) tensor(0.0512, grad_fn=<MseLossBackward>)\n",
            "epoch 4,loss 0.05116036906838417\n",
            "outputs tensor([[ 0.5935],\n",
            "        [ 2.6491],\n",
            "        [ 4.7048],\n",
            "        [ 6.7605],\n",
            "        [ 8.8162],\n",
            "        [10.8719],\n",
            "        [12.9276],\n",
            "        [14.9833],\n",
            "        [17.0390],\n",
            "        [19.0947],\n",
            "        [21.1504]], grad_fn=<AddmmBackward>) tensor(0.0474, grad_fn=<MseLossBackward>)\n",
            "epoch 5,loss 0.04742163419723511\n",
            "outputs tensor([[ 0.5960],\n",
            "        [ 2.6534],\n",
            "        [ 4.7107],\n",
            "        [ 6.7681],\n",
            "        [ 8.8255],\n",
            "        [10.8828],\n",
            "        [12.9402],\n",
            "        [14.9976],\n",
            "        [17.0549],\n",
            "        [19.1123],\n",
            "        [21.1696]], grad_fn=<AddmmBackward>) tensor(0.0466, grad_fn=<MseLossBackward>)\n",
            "epoch 6,loss 0.04663368687033653\n",
            "outputs tensor([[ 0.5984],\n",
            "        [ 2.6560],\n",
            "        [ 4.7136],\n",
            "        [ 6.7712],\n",
            "        [ 8.8288],\n",
            "        [10.8864],\n",
            "        [12.9440],\n",
            "        [15.0016],\n",
            "        [17.0592],\n",
            "        [19.1168],\n",
            "        [21.1744]], grad_fn=<AddmmBackward>) tensor(0.0461, grad_fn=<MseLossBackward>)\n",
            "epoch 7,loss 0.04609189182519913\n",
            "outputs tensor([[ 0.6006],\n",
            "        [ 2.6581],\n",
            "        [ 4.7155],\n",
            "        [ 6.7730],\n",
            "        [ 8.8304],\n",
            "        [10.8879],\n",
            "        [12.9453],\n",
            "        [15.0028],\n",
            "        [17.0602],\n",
            "        [19.1176],\n",
            "        [21.1751]], grad_fn=<AddmmBackward>) tensor(0.0456, grad_fn=<MseLossBackward>)\n",
            "epoch 8,loss 0.04557543992996216\n",
            "outputs tensor([[ 0.6029],\n",
            "        [ 2.6600],\n",
            "        [ 4.7172],\n",
            "        [ 6.7744],\n",
            "        [ 8.8316],\n",
            "        [10.8887],\n",
            "        [12.9459],\n",
            "        [15.0031],\n",
            "        [17.0602],\n",
            "        [19.1174],\n",
            "        [21.1746]], grad_fn=<AddmmBackward>) tensor(0.0451, grad_fn=<MseLossBackward>)\n",
            "epoch 9,loss 0.04506640508770943\n"
          ],
          "name": "stdout"
        }
      ]
    },
    {
      "cell_type": "code",
      "metadata": {
        "id": "pMxh7Bi2I1BT"
      },
      "source": [
        "with torch.no_grad():\n",
        "  predicted=model(Va)"
      ],
      "execution_count": null,
      "outputs": []
    }
  ]
}