{
  "nbformat": 4,
  "nbformat_minor": 0,
  "metadata": {
    "colab": {
      "name": "signet.ipynb",
      "provenance": [],
      "collapsed_sections": [],
      "authorship_tag": "ABX9TyMuvoipPR48MBdUdMzrDCHo",
      "include_colab_link": true
    },
    "kernelspec": {
      "name": "python3",
      "display_name": "Python 3"
    }
  },
  "cells": [
    {
      "cell_type": "markdown",
      "metadata": {
        "id": "view-in-github",
        "colab_type": "text"
      },
      "source": [
        "<a href=\"https://colab.research.google.com/github/anujatayal/Colab-Notebooks/blob/main/signet.ipynb\" target=\"_parent\"><img src=\"https://colab.research.google.com/assets/colab-badge.svg\" alt=\"Open In Colab\"/></a>"
      ]
    },
    {
      "cell_type": "code",
      "metadata": {
        "id": "kJQl5MACp7SG"
      },
      "source": [
        "import cv2\n",
        "import numpy as np"
      ],
      "execution_count": null,
      "outputs": []
    },
    {
      "cell_type": "code",
      "metadata": {
        "id": "bJHQ1vpcqCPa",
        "colab": {
          "base_uri": "https://localhost:8080/"
        },
        "outputId": "339d623e-c5df-4b85-8419-bb54b3d1e6b9"
      },
      "source": [
        "from google.colab import drive\n",
        "drive.mount('/content/drive')"
      ],
      "execution_count": null,
      "outputs": [
        {
          "output_type": "stream",
          "text": [
            "Drive already mounted at /content/drive; to attempt to forcibly remount, call drive.mount(\"/content/drive\", force_remount=True).\n"
          ],
          "name": "stdout"
        }
      ]
    },
    {
      "cell_type": "code",
      "metadata": {
        "colab": {
          "base_uri": "https://localhost:8080/"
        },
        "id": "a7Jj_48vy4Mr",
        "outputId": "b325c3eb-4184-4c53-e1d6-30a6c492b79e"
      },
      "source": [
        "!unzip /content/sample_data/OfflineGenuine.zip"
      ],
      "execution_count": null,
      "outputs": [
        {
          "output_type": "stream",
          "text": [
            "Archive:  /content/sample_data/OfflineGenuine.zip\n",
            "  End-of-central-directory signature not found.  Either this file is not\n",
            "  a zipfile, or it constitutes one disk of a multi-part archive.  In the\n",
            "  latter case the central directory and zipfile comment will be found on\n",
            "  the last disk(s) of this archive.\n",
            "unzip:  cannot find zipfile directory in one of /content/sample_data/OfflineGenuine.zip or\n",
            "        /content/sample_data/OfflineGenuine.zip.zip, and cannot find /content/sample_data/OfflineGenuine.zip.ZIP, period.\n"
          ],
          "name": "stdout"
        }
      ]
    },
    {
      "cell_type": "code",
      "metadata": {
        "id": "_icv8Nlp2gsf"
      },
      "source": [
        "!cp \"/content/sample_data/OfflineGenuine.zip\" ."
      ],
      "execution_count": null,
      "outputs": []
    },
    {
      "cell_type": "code",
      "metadata": {
        "colab": {
          "base_uri": "https://localhost:8080/"
        },
        "id": "Zkj5LmP02oUz",
        "outputId": "2350d230-9a61-4111-de4e-1092042782aa"
      },
      "source": [
        "!unzip OfflineGenuine.zip"
      ],
      "execution_count": null,
      "outputs": [
        {
          "output_type": "stream",
          "text": [
            "Archive:  OfflineGenuine.zip\n",
            "  End-of-central-directory signature not found.  Either this file is not\n",
            "  a zipfile, or it constitutes one disk of a multi-part archive.  In the\n",
            "  latter case the central directory and zipfile comment will be found on\n",
            "  the last disk(s) of this archive.\n",
            "unzip:  cannot find zipfile directory in one of OfflineGenuine.zip or\n",
            "        OfflineGenuine.zip.zip, and cannot find OfflineGenuine.zip.ZIP, period.\n"
          ],
          "name": "stdout"
        }
      ]
    },
    {
      "cell_type": "code",
      "metadata": {
        "id": "vpTLL1Xs270z",
        "colab": {
          "base_uri": "https://localhost:8080/"
        },
        "outputId": "d6552714-bcd2-4770-a120-fea7cb91696e"
      },
      "source": [
        "!ls OfflineGenuine.zip"
      ],
      "execution_count": null,
      "outputs": [
        {
          "output_type": "stream",
          "text": [
            "OfflineGenuine.zip\n"
          ],
          "name": "stdout"
        }
      ]
    },
    {
      "cell_type": "code",
      "metadata": {
        "colab": {
          "base_uri": "https://localhost:8080/"
        },
        "id": "FiVtk0gszszs",
        "outputId": "7e2db75f-2b8c-40e1-d0ed-bbbab5645a56"
      },
      "source": [
        "ls /content/sample_data/Forgeries/"
      ],
      "execution_count": null,
      "outputs": [
        {
          "output_type": "stream",
          "text": [
            "0100003_10.png  0109001_7.png   0109007_9.png   0113001_6.png   0114008_4.png\n",
            "0100003_11.png  0109001_8.png   0110005_10.png  0113001_7.png   0114008_5.png\n",
            "0100003_12.png  0109001_9.png   0110005_11.png  0113001_8.png   0114008_6.png\n",
            "0100003_1.png   0109002_10.png  0110005_12.png  0113001_9.png   0114008_7.png\n",
            "0100003_2.png   0109002_11.png  0110005_1.png   0113003_10.png  0114008_8.png\n",
            "0100003_3.png   0109002_1.png   0110005_2.png   0113003_11.png  0114008_9.png\n",
            "0100003_4.png   0109002_2.png   0110005_3.png   0113003_12.png  0116001_10.png\n",
            "0100003_5.png   0109002_3.png   0110005_4.png   0113003_1.png   0116001_11.png\n",
            "0100003_6.png   0109002_4.png   0110005_5.png   0113003_2.png   0116001_12.png\n",
            "0100003_7.png   0109002_5.png   0110005_6.png   0113003_3.png   0116001_3.png\n",
            "0100003_8.png   0109002_6.png   0110005_7.png   0113003_4.png   0116001_4.png\n",
            "0100003_9.png   0109002_7.png   0110005_8.png   0113003_5.png   0116001_5.png\n",
            "0101004_10.png  0109002_8.png   0110005_9.png   0113003_6.png   0116001_6.png\n",
            "0101004_11.png  0109003_10.png  0110009_10.png  0113003_7.png   0116001_7.png\n",
            "0101004_12.png  0109003_11.png  0110009_11.png  0113003_8.png   0116001_8.png\n",
            "0101004_1.png   0109003_12.png  0110009_12.png  0113003_9.png   0116001_9.png\n",
            "0101004_2.png   0109003_1.png   0110009_1.png   0113005_10.png  0116002_10.png\n",
            "0101004_3.png   0109003_2.png   0110009_2.png   0113005_11.png  0116002_11.png\n",
            "0101004_4.png   0109003_3.png   0110009_3.png   0113005_12.png  0116002_12.png\n",
            "0101004_5.png   0109003_4.png   0110009_4.png   0113005_1.png   0116002_1.png\n",
            "0101004_6.png   0109003_5.png   0110009_5.png   0113005_2.png   0116002_2.png\n",
            "0101004_7.png   0109003_6.png   0110009_6.png   0113005_3.png   0116002_3.png\n",
            "0101004_8.png   0109003_7.png   0110009_7.png   0113005_4.png   0116002_4.png\n",
            "0101004_9.png   0109003_8.png   0110009_8.png   0113005_5.png   0116002_5.png\n",
            "0103002_10.png  0109003_9.png   0110009_9.png   0113005_6.png   0116002_6.png\n",
            "0103002_11.png  0109004_10.png  0111010_10.png  0113005_7.png   0116002_7.png\n",
            "0103002_12.png  0109004_11.png  0111010_11.png  0113005_8.png   0116002_8.png\n",
            "0103002_13.png  0109004_12.png  0111010_12.png  0113005_9.png   0116002_9.png\n",
            "0103002_1.png   0109004_1.png   0111010_2.png   0113006_10.png  0116007_10.png\n",
            "0103002_2.png   0109004_2.png   0111010_3.png   0113006_11.png  0116007_11.png\n",
            "0103002_3.png   0109004_3.png   0111010_4.png   0113006_12.png  0116007_12.png\n",
            "0103002_4.png   0109004_4.png   0111010_5.png   0113006_1.png   0116007_1.png\n",
            "0103002_6.png   0109004_5.png   0111010_6.png   0113006_2.png   0116007_2.png\n",
            "0103002_7.png   0109004_6.png   0111010_7.png   0113006_3.png   0116007_3.png\n",
            "0103002_8.png   0109004_7.png   0111010_8.png   0113006_4.png   0116007_4.png\n",
            "0103002_9.png   0109004_8.png   0111010_9.png   0113006_5.png   0116007_5.png\n",
            "0104006_11.png  0109004_9.png   0112004_10.png  0113006_6.png   0116007_6.png\n",
            "0104006_12.png  0109005_10.png  0112004_11.png  0113006_7.png   0116007_7.png\n",
            "0104006_1.png   0109005_11.png  0112004_12.png  0113006_8.png   0116007_8.png\n",
            "0104006_2.png   0109005_12.png  0112004_1.png   0113006_9.png   0116007_9.png\n",
            "0104006_3.png   0109005_13.png  0112004_2.png   0113007_10.png  0116008_10.png\n",
            "0104006_4.png   0109005_14.png  0112004_3.png   0113007_11.png  0116008_11.png\n",
            "0104006_5.png   0109005_3.png   0112004_4.png   0113007_12.png  0116008_12.png\n",
            "0104006_6.png   0109005_4.png   0112004_5.png   0113007_1.png   0116008_1.png\n",
            "0104006_7.png   0109005_5.png   0112004_6.png   0113007_2.png   0116008_2.png\n",
            "0104006_8.png   0109005_8.png   0112004_7.png   0113007_3.png   0116008_3.png\n",
            "0104006_9.png   0109005_9.png   0112004_8.png   0113007_4.png   0116008_4.png\n",
            "0108008_10.png  0109006_10.png  0112004_9.png   0113007_5.png   0116008_5.png\n",
            "0108008_11.png  0109006_11.png  0112010_10.png  0113007_6.png   0116008_6.png\n",
            "0108008_12.png  0109006_12.png  0112010_11.png  0113007_7.png   0116008_7.png\n",
            "0108008_1.png   0109006_1.png   0112010_12.png  0113007_8.png   0116008_8.png\n",
            "0108008_2.png   0109006_2.png   0112010_1.png   0113007_9.png   0116008_9.png\n",
            "0108008_3.png   0109006_3.png   0112010_2.png   0113009_10.png  0116009_10.png\n",
            "0108008_4.png   0109006_4.png   0112010_3.png   0113009_11.png  0116009_11.png\n",
            "0108008_5.png   0109006_5.png   0112010_4.png   0113009_12.png  0116009_12.png\n",
            "0108008_6.png   0109006_6.png   0112010_5.png   0113009_1.png   0116009_1.png\n",
            "0108008_7.png   0109006_7.png   0112010_6.png   0113009_2.png   0116009_2.png\n",
            "0108008_8.png   0109006_8.png   0112010_7.png   0113009_3.png   0116009_3.png\n",
            "0108008_9.png   0109006_9.png   0112010_8.png   0113009_4.png   0116009_4.png\n",
            "0109001_10.png  0109007_10.png  0112010_9.png   0113009_5.png   0116009_5.png\n",
            "0109001_11.png  0109007_11.png  0113001_10.png  0113009_6.png   0116009_6.png\n",
            "0109001_12.png  0109007_2.png   0113001_11.png  0113009_7.png   0116009_7.png\n",
            "0109001_1.png   0109007_3.png   0113001_12.png  0113009_8.png   0116009_8.png\n",
            "0109001_2.png   0109007_4.png   0113001_1.png   0113009_9.png   0116009_9.png\n",
            "0109001_3.png   0109007_5.png   0113001_2.png   0114008_10.png\n",
            "0109001_4.png   0109007_6.png   0113001_3.png   0114008_1.png\n",
            "0109001_5.png   0109007_7.png   0113001_4.png   0114008_2.png\n",
            "0109001_6.png   0109007_8.png   0113001_5.png   0114008_3.png\n"
          ],
          "name": "stdout"
        }
      ]
    },
    {
      "cell_type": "code",
      "metadata": {
        "id": "sAMu4Qtdy7kd"
      },
      "source": [
        "forge = []\n",
        "\n",
        "a = b = 0 \n",
        "path = os.listdir('/content/sample_data/Forgeries/')\n",
        "path.sort(key = lambda x: x[5:7])\n",
        "\n",
        "for i in range(10):\n",
        "  y = []\n",
        "  for j in range(b,len(path)):\n",
        "    if(path[j][5:7] == str(i+1).zfill(2)):\n",
        "        img = cv2.imread('/content/sample_data/Forgeries/'+path[j]+'')\n",
        "        img  = cv2.cvtColor(img,cv2.COLOR_RGB2GRAY)\n",
        "        arr = np.asarray(img)\n",
        "        arr = cv2.resize(arr,(155,220),interpolation= cv2.INTER_AREA)\n",
        "        y.append(arr)\n",
        "        a = a + 1\n",
        "        #print(a)\n",
        "        if(a==235):\n",
        "          forge.append(np.asarray(y))\n",
        "    else:\n",
        "     # print('...............')\n",
        "      forge.append(np.asarray(y))\n",
        "      b = a\n",
        "      break"
      ],
      "execution_count": null,
      "outputs": []
    },
    {
      "cell_type": "code",
      "metadata": {
        "id": "8d2aX_tyzb-8"
      },
      "source": [
        "gen = []\n",
        "\n",
        "a = b = 0 \n",
        "path = os.listdir('/content/sample_data/Genuine/')\n",
        "path.sort(key = lambda sample: sample[1:3])\n",
        "\n",
        "for i in range(10):\n",
        "  y = []\n",
        "  for j in range(b,len(path)):\n",
        "    if(path[j][1:3] == str(i+1).zfill(2)):\n",
        "        img = cv2.imread('/content/sample_data/Genuine/'+path[j]+'')\n",
        "        img  = cv2.cvtColor(img,cv2.COLOR_RGB2GRAY)\n",
        "        arr = np.asarray(img)\n",
        "        arr = cv2.resize(arr,(155,220),interpolation= cv2.INTER_AREA)\n",
        "        y.append(arr)\n",
        "        a = a + 1\n",
        "        #print(a)\n",
        "        if(a==235):\n",
        "          gen.append(np.asarray(y))\n",
        "    else:\n",
        "      #print('...............')\n",
        "      gen.append(np.asarray(y))\n",
        "      b = a\n",
        "      break"
      ],
      "execution_count": null,
      "outputs": []
    },
    {
      "cell_type": "code",
      "metadata": {
        "id": "P7fFFGLZzcCH",
        "colab": {
          "base_uri": "https://localhost:8080/"
        },
        "outputId": "7ddf6cc5-a7c4-46e8-f65e-9c777078080e"
      },
      "source": [
        "len(gen)"
      ],
      "execution_count": null,
      "outputs": [
        {
          "output_type": "execute_result",
          "data": {
            "text/plain": [
              "10"
            ]
          },
          "metadata": {
            "tags": []
          },
          "execution_count": 71
        }
      ]
    },
    {
      "cell_type": "code",
      "metadata": {
        "id": "YeBD34w35F4c"
      },
      "source": [
        "\n",
        "X1 = []\n",
        "X2 = []\n",
        "X3 = []\n",
        "for i in range(10):\n",
        "  for j in range(len(gen[i])):\n",
        "    for l in range(10):\n",
        "      #y1 = []\n",
        "      X1.append(gen[i][j])\n",
        "      a = np.random.randint(0,len(gen[i])-1)\n",
        "      X2.append(gen[i][a])\n",
        "      k = np.random.randint(0,9)\n",
        "      if(k == i):\n",
        "        b = np.random.randint(0,len(forge[i])-1)\n",
        "        X3.append(forge[i][b])\n",
        "        #y1 = np.asarray(y1)\n",
        "      else:\n",
        "        b = np.random.randint(0,len(gen[k])-1)\n",
        "        X3.append(gen[k][b])\n",
        "        #y1 = np.asarray(y1)\n",
        "      #x.append(y1)\n",
        "X1 = np.asarray(X1).reshape((2350,155,220,1))\n",
        "X2 = np.asarray(X2).reshape((2350,155,220,1))\n",
        "X3 = np.asarray(X3).reshape((2350,155,220,1))"
      ],
      "execution_count": null,
      "outputs": []
    },
    {
      "cell_type": "code",
      "metadata": {
        "id": "JYnJv--a5MP2"
      },
      "source": [
        "import keras\n",
        "from keras import layers\n",
        "from keras.layers import Input, Dense, Activation, ZeroPadding2D, BatchNormalization, Flatten, Conv2D, Lambda,Concatenate\n",
        "from keras.layers import AveragePooling2D, MaxPooling2D, Dropout, GlobalMaxPooling2D, GlobalAveragePooling2D, Add,Reshape\n",
        "from keras.models import Model\n",
        "from keras import regularizers\n",
        "from keras.preprocessing import image\n",
        "from keras.utils import layer_utils\n",
        "from keras.utils.data_utils import get_file\n",
        "from keras.applications.imagenet_utils import preprocess_input\n",
        "from keras.initializers import glorot_normal\n",
        "#import pydot\n",
        "from IPython.display import SVG\n",
        "from keras.utils.vis_utils import model_to_dot\n",
        "from keras.utils import plot_model"
      ],
      "execution_count": null,
      "outputs": []
    },
    {
      "cell_type": "code",
      "metadata": {
        "id": "BUIylW2m5vAO"
      },
      "source": [
        "conv_activation = 'relu'\n",
        "deep_activation = 'relu'\n",
        "\n",
        "input_shape = (155, 220, 3)\n",
        "num_classes = 10\n",
        "\n",
        "model = Sequential()\n",
        "model.add(Conv2D(96,kernel_size=(11, 11),strides=(1, 1),activation=conv_activation,input_shape=input_shape))\n",
        "model.add(MaxPooling2D(pool_size=(2, 2)))\n",
        "\n",
        "model.add(Conv2D(96, (3, 3), strides=(2, 2),activation=conv_activation))\n",
        "model.add(MaxPooling2D(pool_size=(2, 2)))\n",
        "\n",
        "model.add(Conv2D(16, (16, 16), activation=conv_activation))\n",
        "model.add(MaxPooling2D(pool_size=(2, 2)))\n",
        "\n",
        "model.add(MaxPooling2D(pool_size=(2, 2)))\n",
        "\n",
        "model.add(Conv2D(16, (16, 16), activation=conv_activation))\n",
        "model.add(MaxPooling2D(pool_size=(2, 2)))\n",
        "\n",
        "model.add(MaxPooling2D(pool_size=(2, 2)))\n",
        "\n",
        "model.add(Flatten())\n",
        "\n",
        "# model.add(Dense(100, activation=deep_activation))\n",
        "model.add(Dense(100, activation=deep_activation))\n",
        "model.add(Dense(50, activation=deep_activation))\n",
        "model.add(Dense(num_classes, activation='softmax'))\n",
        "\n",
        "model.compile(loss=\"categorical_crossentropy\", optimizer=\"adam\", metrics=[\"accuracy\"])  \n",
        "\n",
        "model.summary()"
      ],
      "execution_count": null,
      "outputs": []
    },
    {
      "cell_type": "code",
      "metadata": {
        "colab": {
          "base_uri": "https://localhost:8080/",
          "height": 310
        },
        "id": "qzJwQTsZ8r_S",
        "outputId": "a8455309-1365-42d9-8abc-32a335e2ff70"
      },
      "source": [
        "m = emb_model((155,220,1))\n"
      ],
      "execution_count": null,
      "outputs": [
        {
          "output_type": "error",
          "ename": "ValueError",
          "evalue": "ignored",
          "traceback": [
            "\u001b[0;31m---------------------------------------------------------------------------\u001b[0m",
            "\u001b[0;31mValueError\u001b[0m                                Traceback (most recent call last)",
            "\u001b[0;32m<ipython-input-78-1436d7eec4f9>\u001b[0m in \u001b[0;36m<module>\u001b[0;34m()\u001b[0m\n\u001b[0;32m----> 1\u001b[0;31m \u001b[0mm\u001b[0m \u001b[0;34m=\u001b[0m \u001b[0memb_model\u001b[0m\u001b[0;34m(\u001b[0m\u001b[0;34m(\u001b[0m\u001b[0;36m155\u001b[0m\u001b[0;34m,\u001b[0m\u001b[0;36m220\u001b[0m\u001b[0;34m,\u001b[0m\u001b[0;36m1\u001b[0m\u001b[0;34m)\u001b[0m\u001b[0;34m)\u001b[0m\u001b[0;34m\u001b[0m\u001b[0;34m\u001b[0m\u001b[0m\n\u001b[0m",
            "\u001b[0;32m<ipython-input-77-adeba06a03f5>\u001b[0m in \u001b[0;36memb_model\u001b[0;34m(input_shape)\u001b[0m\n\u001b[1;32m      6\u001b[0m   \u001b[0mX\u001b[0m \u001b[0;34m=\u001b[0m \u001b[0mConv2D\u001b[0m\u001b[0;34m(\u001b[0m\u001b[0;36m256\u001b[0m\u001b[0;34m,\u001b[0m\u001b[0;34m(\u001b[0m\u001b[0;36m2\u001b[0m\u001b[0;34m,\u001b[0m\u001b[0;36m2\u001b[0m\u001b[0;34m)\u001b[0m\u001b[0;34m,\u001b[0m\u001b[0mstrides\u001b[0m\u001b[0;34m=\u001b[0m\u001b[0;36m2\u001b[0m\u001b[0;34m,\u001b[0m\u001b[0mpadding\u001b[0m\u001b[0;34m=\u001b[0m\u001b[0;34m'valid'\u001b[0m\u001b[0;34m)\u001b[0m\u001b[0;34m(\u001b[0m\u001b[0mX\u001b[0m\u001b[0;34m)\u001b[0m\u001b[0;34m\u001b[0m\u001b[0;34m\u001b[0m\u001b[0m\n\u001b[1;32m      7\u001b[0m   \u001b[0mX\u001b[0m \u001b[0;34m=\u001b[0m \u001b[0mFlatten\u001b[0m\u001b[0;34m(\u001b[0m\u001b[0;34m)\u001b[0m\u001b[0;34m(\u001b[0m\u001b[0mX\u001b[0m\u001b[0;34m)\u001b[0m\u001b[0;34m\u001b[0m\u001b[0;34m\u001b[0m\u001b[0m\n\u001b[0;32m----> 8\u001b[0;31m   \u001b[0mX\u001b[0m \u001b[0;34m=\u001b[0m \u001b[0mReshape\u001b[0m\u001b[0;34m(\u001b[0m\u001b[0;34m(\u001b[0m\u001b[0;36m1\u001b[0m\u001b[0;34m,\u001b[0m\u001b[0;36m1024\u001b[0m\u001b[0;34m)\u001b[0m\u001b[0;34m)\u001b[0m\u001b[0;34m(\u001b[0m\u001b[0mX\u001b[0m\u001b[0;34m)\u001b[0m\u001b[0;34m\u001b[0m\u001b[0;34m\u001b[0m\u001b[0m\n\u001b[0m\u001b[1;32m      9\u001b[0m   \u001b[0;31m#print(X.shape)\u001b[0m\u001b[0;34m\u001b[0m\u001b[0;34m\u001b[0m\u001b[0;34m\u001b[0m\u001b[0m\n\u001b[1;32m     10\u001b[0m   \u001b[0mmodel\u001b[0m \u001b[0;34m=\u001b[0m \u001b[0mModel\u001b[0m\u001b[0;34m(\u001b[0m\u001b[0minputs\u001b[0m\u001b[0;34m=\u001b[0m\u001b[0mX_input\u001b[0m\u001b[0;34m,\u001b[0m\u001b[0moutputs\u001b[0m\u001b[0;34m=\u001b[0m\u001b[0mX\u001b[0m\u001b[0;34m)\u001b[0m\u001b[0;34m\u001b[0m\u001b[0;34m\u001b[0m\u001b[0m\n",
            "\u001b[0;32m/usr/local/lib/python3.6/dist-packages/tensorflow/python/keras/engine/base_layer.py\u001b[0m in \u001b[0;36m__call__\u001b[0;34m(self, *args, **kwargs)\u001b[0m\n\u001b[1;32m    950\u001b[0m     \u001b[0;32mif\u001b[0m \u001b[0m_in_functional_construction_mode\u001b[0m\u001b[0;34m(\u001b[0m\u001b[0mself\u001b[0m\u001b[0;34m,\u001b[0m \u001b[0minputs\u001b[0m\u001b[0;34m,\u001b[0m \u001b[0margs\u001b[0m\u001b[0;34m,\u001b[0m \u001b[0mkwargs\u001b[0m\u001b[0;34m,\u001b[0m \u001b[0minput_list\u001b[0m\u001b[0;34m)\u001b[0m\u001b[0;34m:\u001b[0m\u001b[0;34m\u001b[0m\u001b[0;34m\u001b[0m\u001b[0m\n\u001b[1;32m    951\u001b[0m       return self._functional_construction_call(inputs, args, kwargs,\n\u001b[0;32m--> 952\u001b[0;31m                                                 input_list)\n\u001b[0m\u001b[1;32m    953\u001b[0m \u001b[0;34m\u001b[0m\u001b[0m\n\u001b[1;32m    954\u001b[0m     \u001b[0;31m# Maintains info about the `Layer.call` stack.\u001b[0m\u001b[0;34m\u001b[0m\u001b[0;34m\u001b[0m\u001b[0;34m\u001b[0m\u001b[0m\n",
            "\u001b[0;32m/usr/local/lib/python3.6/dist-packages/tensorflow/python/keras/engine/base_layer.py\u001b[0m in \u001b[0;36m_functional_construction_call\u001b[0;34m(self, inputs, args, kwargs, input_list)\u001b[0m\n\u001b[1;32m   1089\u001b[0m         \u001b[0;31m# Check input assumptions set after layer building, e.g. input shape.\u001b[0m\u001b[0;34m\u001b[0m\u001b[0;34m\u001b[0m\u001b[0;34m\u001b[0m\u001b[0m\n\u001b[1;32m   1090\u001b[0m         outputs = self._keras_tensor_symbolic_call(\n\u001b[0;32m-> 1091\u001b[0;31m             inputs, input_masks, args, kwargs)\n\u001b[0m\u001b[1;32m   1092\u001b[0m \u001b[0;34m\u001b[0m\u001b[0m\n\u001b[1;32m   1093\u001b[0m         \u001b[0;32mif\u001b[0m \u001b[0moutputs\u001b[0m \u001b[0;32mis\u001b[0m \u001b[0;32mNone\u001b[0m\u001b[0;34m:\u001b[0m\u001b[0;34m\u001b[0m\u001b[0;34m\u001b[0m\u001b[0m\n",
            "\u001b[0;32m/usr/local/lib/python3.6/dist-packages/tensorflow/python/keras/engine/base_layer.py\u001b[0m in \u001b[0;36m_keras_tensor_symbolic_call\u001b[0;34m(self, inputs, input_masks, args, kwargs)\u001b[0m\n\u001b[1;32m    820\u001b[0m       \u001b[0;32mreturn\u001b[0m \u001b[0mnest\u001b[0m\u001b[0;34m.\u001b[0m\u001b[0mmap_structure\u001b[0m\u001b[0;34m(\u001b[0m\u001b[0mkeras_tensor\u001b[0m\u001b[0;34m.\u001b[0m\u001b[0mKerasTensor\u001b[0m\u001b[0;34m,\u001b[0m \u001b[0moutput_signature\u001b[0m\u001b[0;34m)\u001b[0m\u001b[0;34m\u001b[0m\u001b[0;34m\u001b[0m\u001b[0m\n\u001b[1;32m    821\u001b[0m     \u001b[0;32melse\u001b[0m\u001b[0;34m:\u001b[0m\u001b[0;34m\u001b[0m\u001b[0;34m\u001b[0m\u001b[0m\n\u001b[0;32m--> 822\u001b[0;31m       \u001b[0;32mreturn\u001b[0m \u001b[0mself\u001b[0m\u001b[0;34m.\u001b[0m\u001b[0m_infer_output_signature\u001b[0m\u001b[0;34m(\u001b[0m\u001b[0minputs\u001b[0m\u001b[0;34m,\u001b[0m \u001b[0margs\u001b[0m\u001b[0;34m,\u001b[0m \u001b[0mkwargs\u001b[0m\u001b[0;34m,\u001b[0m \u001b[0minput_masks\u001b[0m\u001b[0;34m)\u001b[0m\u001b[0;34m\u001b[0m\u001b[0;34m\u001b[0m\u001b[0m\n\u001b[0m\u001b[1;32m    823\u001b[0m \u001b[0;34m\u001b[0m\u001b[0m\n\u001b[1;32m    824\u001b[0m   \u001b[0;32mdef\u001b[0m \u001b[0m_infer_output_signature\u001b[0m\u001b[0;34m(\u001b[0m\u001b[0mself\u001b[0m\u001b[0;34m,\u001b[0m \u001b[0minputs\u001b[0m\u001b[0;34m,\u001b[0m \u001b[0margs\u001b[0m\u001b[0;34m,\u001b[0m \u001b[0mkwargs\u001b[0m\u001b[0;34m,\u001b[0m \u001b[0minput_masks\u001b[0m\u001b[0;34m)\u001b[0m\u001b[0;34m:\u001b[0m\u001b[0;34m\u001b[0m\u001b[0;34m\u001b[0m\u001b[0m\n",
            "\u001b[0;32m/usr/local/lib/python3.6/dist-packages/tensorflow/python/keras/engine/base_layer.py\u001b[0m in \u001b[0;36m_infer_output_signature\u001b[0;34m(self, inputs, args, kwargs, input_masks)\u001b[0m\n\u001b[1;32m    861\u001b[0m           \u001b[0;31m# TODO(kaftan): do we maybe_build here, or have we already done it?\u001b[0m\u001b[0;34m\u001b[0m\u001b[0;34m\u001b[0m\u001b[0;34m\u001b[0m\u001b[0m\n\u001b[1;32m    862\u001b[0m           \u001b[0mself\u001b[0m\u001b[0;34m.\u001b[0m\u001b[0m_maybe_build\u001b[0m\u001b[0;34m(\u001b[0m\u001b[0minputs\u001b[0m\u001b[0;34m)\u001b[0m\u001b[0;34m\u001b[0m\u001b[0;34m\u001b[0m\u001b[0m\n\u001b[0;32m--> 863\u001b[0;31m           \u001b[0moutputs\u001b[0m \u001b[0;34m=\u001b[0m \u001b[0mcall_fn\u001b[0m\u001b[0;34m(\u001b[0m\u001b[0minputs\u001b[0m\u001b[0;34m,\u001b[0m \u001b[0;34m*\u001b[0m\u001b[0margs\u001b[0m\u001b[0;34m,\u001b[0m \u001b[0;34m**\u001b[0m\u001b[0mkwargs\u001b[0m\u001b[0;34m)\u001b[0m\u001b[0;34m\u001b[0m\u001b[0;34m\u001b[0m\u001b[0m\n\u001b[0m\u001b[1;32m    864\u001b[0m \u001b[0;34m\u001b[0m\u001b[0m\n\u001b[1;32m    865\u001b[0m         \u001b[0mself\u001b[0m\u001b[0;34m.\u001b[0m\u001b[0m_handle_activity_regularization\u001b[0m\u001b[0;34m(\u001b[0m\u001b[0minputs\u001b[0m\u001b[0;34m,\u001b[0m \u001b[0moutputs\u001b[0m\u001b[0;34m)\u001b[0m\u001b[0;34m\u001b[0m\u001b[0;34m\u001b[0m\u001b[0m\n",
            "\u001b[0;32m/usr/local/lib/python3.6/dist-packages/tensorflow/python/keras/layers/core.py\u001b[0m in \u001b[0;36mcall\u001b[0;34m(self, inputs)\u001b[0m\n\u001b[1;32m    555\u001b[0m       \u001b[0;31m# Set the static shape for the result since it might lost during array_ops\u001b[0m\u001b[0;34m\u001b[0m\u001b[0;34m\u001b[0m\u001b[0;34m\u001b[0m\u001b[0m\n\u001b[1;32m    556\u001b[0m       \u001b[0;31m# reshape, eg, some `None` dim in the result could be inferred.\u001b[0m\u001b[0;34m\u001b[0m\u001b[0;34m\u001b[0m\u001b[0;34m\u001b[0m\u001b[0m\n\u001b[0;32m--> 557\u001b[0;31m       \u001b[0mresult\u001b[0m\u001b[0;34m.\u001b[0m\u001b[0mset_shape\u001b[0m\u001b[0;34m(\u001b[0m\u001b[0mself\u001b[0m\u001b[0;34m.\u001b[0m\u001b[0mcompute_output_shape\u001b[0m\u001b[0;34m(\u001b[0m\u001b[0minputs\u001b[0m\u001b[0;34m.\u001b[0m\u001b[0mshape\u001b[0m\u001b[0;34m)\u001b[0m\u001b[0;34m)\u001b[0m\u001b[0;34m\u001b[0m\u001b[0;34m\u001b[0m\u001b[0m\n\u001b[0m\u001b[1;32m    558\u001b[0m     \u001b[0;32mreturn\u001b[0m \u001b[0mresult\u001b[0m\u001b[0;34m\u001b[0m\u001b[0;34m\u001b[0m\u001b[0m\n\u001b[1;32m    559\u001b[0m \u001b[0;34m\u001b[0m\u001b[0m\n",
            "\u001b[0;32m/usr/local/lib/python3.6/dist-packages/tensorflow/python/keras/layers/core.py\u001b[0m in \u001b[0;36mcompute_output_shape\u001b[0;34m(self, input_shape)\u001b[0m\n\u001b[1;32m    546\u001b[0m       \u001b[0moutput_shape\u001b[0m \u001b[0;34m=\u001b[0m \u001b[0;34m[\u001b[0m\u001b[0minput_shape\u001b[0m\u001b[0;34m[\u001b[0m\u001b[0;36m0\u001b[0m\u001b[0;34m]\u001b[0m\u001b[0;34m]\u001b[0m\u001b[0;34m\u001b[0m\u001b[0;34m\u001b[0m\u001b[0m\n\u001b[1;32m    547\u001b[0m       output_shape += self._fix_unknown_dimension(input_shape[1:],\n\u001b[0;32m--> 548\u001b[0;31m                                                   self.target_shape)\n\u001b[0m\u001b[1;32m    549\u001b[0m     \u001b[0;32mreturn\u001b[0m \u001b[0mtensor_shape\u001b[0m\u001b[0;34m.\u001b[0m\u001b[0mTensorShape\u001b[0m\u001b[0;34m(\u001b[0m\u001b[0moutput_shape\u001b[0m\u001b[0;34m)\u001b[0m\u001b[0;34m\u001b[0m\u001b[0;34m\u001b[0m\u001b[0m\n\u001b[1;32m    550\u001b[0m \u001b[0;34m\u001b[0m\u001b[0m\n",
            "\u001b[0;32m/usr/local/lib/python3.6/dist-packages/tensorflow/python/keras/layers/core.py\u001b[0m in \u001b[0;36m_fix_unknown_dimension\u001b[0;34m(self, input_shape, output_shape)\u001b[0m\n\u001b[1;32m    534\u001b[0m       \u001b[0moutput_shape\u001b[0m\u001b[0;34m[\u001b[0m\u001b[0munknown\u001b[0m\u001b[0;34m]\u001b[0m \u001b[0;34m=\u001b[0m \u001b[0moriginal\u001b[0m \u001b[0;34m//\u001b[0m \u001b[0mknown\u001b[0m\u001b[0;34m\u001b[0m\u001b[0;34m\u001b[0m\u001b[0m\n\u001b[1;32m    535\u001b[0m     \u001b[0;32melif\u001b[0m \u001b[0moriginal\u001b[0m \u001b[0;34m!=\u001b[0m \u001b[0mknown\u001b[0m\u001b[0;34m:\u001b[0m\u001b[0;34m\u001b[0m\u001b[0;34m\u001b[0m\u001b[0m\n\u001b[0;32m--> 536\u001b[0;31m       \u001b[0;32mraise\u001b[0m \u001b[0mValueError\u001b[0m\u001b[0;34m(\u001b[0m\u001b[0mmsg\u001b[0m\u001b[0;34m)\u001b[0m\u001b[0;34m\u001b[0m\u001b[0;34m\u001b[0m\u001b[0m\n\u001b[0m\u001b[1;32m    537\u001b[0m     \u001b[0;32mreturn\u001b[0m \u001b[0moutput_shape\u001b[0m\u001b[0;34m\u001b[0m\u001b[0;34m\u001b[0m\u001b[0m\n\u001b[1;32m    538\u001b[0m \u001b[0;34m\u001b[0m\u001b[0m\n",
            "\u001b[0;31mValueError\u001b[0m: total size of new array must be unchanged, input_shape = [52224], output_shape = [1, 1024]"
          ]
        }
      ]
    },
    {
      "cell_type": "code",
      "metadata": {
        "id": "zbZq0aze8zlj"
      },
      "source": [
        "from matplotlib import pyplot as plt\n",
        "plt.imshow(np.uint8(x[2][0]))\n",
        "plt.show()"
      ],
      "execution_count": null,
      "outputs": []
    }
  ]
}