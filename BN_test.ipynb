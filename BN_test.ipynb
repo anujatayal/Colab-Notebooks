{
  "nbformat": 4,
  "nbformat_minor": 0,
  "metadata": {
    "colab": {
      "name": "BN_test.ipynb",
      "provenance": [],
      "authorship_tag": "ABX9TyNOF7gU//BpyfHSwXydotcp",
      "include_colab_link": true
    },
    "kernelspec": {
      "name": "python3",
      "display_name": "Python 3"
    },
    "accelerator": "GPU"
  },
  "cells": [
    {
      "cell_type": "markdown",
      "metadata": {
        "id": "view-in-github",
        "colab_type": "text"
      },
      "source": [
        "<a href=\"https://colab.research.google.com/github/anujatayal/Colab-Notebooks/blob/main/BN_test.ipynb\" target=\"_parent\"><img src=\"https://colab.research.google.com/assets/colab-badge.svg\" alt=\"Open In Colab\"/></a>"
      ]
    },
    {
      "cell_type": "code",
      "metadata": {
        "id": "gUFmJGiPAZAp"
      },
      "source": [
        "import tensorflow as tf\n",
        "tf.__version__\n",
        "import glob\n",
        "import imageio\n",
        "import matplotlib.pyplot as plt\n",
        "import numpy as np\n",
        "import os\n",
        "import PIL\n",
        "from tensorflow.keras import layers\n",
        "import time\n",
        "\n",
        "from IPython import display"
      ],
      "execution_count": null,
      "outputs": []
    },
    {
      "cell_type": "code",
      "metadata": {
        "id": "ahRQ3P98BHgg"
      },
      "source": [
        "(train_images, train_labels), (_, _) = tf.keras.datasets.mnist.load_data()\n",
        "train_images = train_images.reshape(train_images.shape[0], 28, 28, 1).astype('float32')\n",
        "train_images = (train_images - 127.5) / 127.5 # Normalize the images to [-1, 1]"
      ],
      "execution_count": null,
      "outputs": []
    },
    {
      "cell_type": "code",
      "metadata": {
        "id": "i-k15OSOBHqB"
      },
      "source": [
        "train_dataset = tf.data.Dataset.from_tensor_slices(train_images).shuffle(BUFFER_SIZE).batch(BATCH_SIZE)\n"
      ],
      "execution_count": null,
      "outputs": []
    },
    {
      "cell_type": "code",
      "metadata": {
        "id": "0tnnot9PBHuN"
      },
      "source": [
        "import matplotlib.pyplot as plt\n",
        "import matplotlib.image as mpimg\n",
        "plt.style.use('dark_background')\n",
        "from keras.models import Sequential\n",
        "from keras.preprocessing.image import ImageDataGenerator\n",
        "from keras.layers import BatchNormalization\n",
        "from keras.layers import Conv2D, MaxPooling2D, Dense, Flatten\n",
        "from keras.datasets import cifar10\n",
        "from keras.utils import normalize, to_categorical"
      ],
      "execution_count": null,
      "outputs": []
    },
    {
      "cell_type": "code",
      "metadata": {
        "id": "RUfYh8VwBHpB",
        "colab": {
          "base_uri": "https://localhost:8080/",
          "height": 52
        },
        "outputId": "b65a9159-4877-4ba9-a7f0-46f2d5033e8f"
      },
      "source": [
        "(X_train, y_train), (X_test, y_test) = cifar10.load_data()\n",
        "X_train = normalize(X_train, axis=1)\n",
        "X_test = normalize(X_test, axis=1)\n",
        "y_train = to_categorical(y_train)\n",
        "y_test = to_categorical(y_test)"
      ],
      "execution_count": null,
      "outputs": [
        {
          "output_type": "stream",
          "text": [
            "Downloading data from https://www.cs.toronto.edu/~kriz/cifar-10-python.tar.gz\n",
            "170500096/170498071 [==============================] - 4s 0us/step\n"
          ],
          "name": "stdout"
        }
      ]
    },
    {
      "cell_type": "code",
      "metadata": {
        "id": "GRWGY_OvBHll"
      },
      "source": [
        "train_datagen = ImageDataGenerator(\n",
        "    shear_range = 0.2,\n",
        "    zoom_range = 0.2,\n",
        "    horizontal_flip = True\n",
        ")\n",
        "train_datagen.fit(X_train)\n",
        "train_generator = train_datagen.flow(\n",
        "    X_train,\n",
        "    y_train,\n",
        "    batch_size = 32\n",
        ")"
      ],
      "execution_count": null,
      "outputs": []
    },
    {
      "cell_type": "code",
      "metadata": {
        "id": "M9FlbA0eIMZJ"
      },
      "source": [
        "steps = int(X_train.shape[0] / 64)\n"
      ],
      "execution_count": null,
      "outputs": []
    },
    {
      "cell_type": "code",
      "metadata": {
        "id": "xFKFzREoIMei"
      },
      "source": [
        "def build_model(batch_normalization, activation):\n",
        "    model = Sequential()\n",
        "    model.add(Conv2D(32, 3, activation = activation, padding = 'same', input_shape = (32, 32, 3)))\n",
        "    if batch_normalization: model.add(BatchNormalization())\n",
        "    model.add(Conv2D(32, 3, activation = activation, padding = 'same', kernel_initializer = 'he_uniform'))\n",
        "    if batch_normalization: model.add(BatchNormalization())\n",
        "    model.add(MaxPooling2D())\n",
        "    model.add(Conv2D(64, 3, activation = activation, padding = 'same', kernel_initializer = 'he_uniform'))\n",
        "    if batch_normalization: model.add(BatchNormalization())\n",
        "    model.add(Conv2D(64, 3, activation = activation, padding = 'same', kernel_initializer = 'he_uniform'))\n",
        "    if batch_normalization: model.add(BatchNormalization()) \n",
        "    model.add(MaxPooling2D())\n",
        "    model.add(Flatten())\n",
        "    model.add(Dense(128, activation = activation, kernel_initializer = 'he_uniform'))\n",
        "    model.add(Dense(10, activation = 'softmax'))\n",
        "    return model"
      ],
      "execution_count": null,
      "outputs": []
    },
    {
      "cell_type": "code",
      "metadata": {
        "id": "-Y3li_W0IMpJ"
      },
      "source": [
        "sig_model = build_model(batch_normalization = True, activation = 'relu')"
      ],
      "execution_count": null,
      "outputs": []
    },
    {
      "cell_type": "code",
      "metadata": {
        "id": "VnIqpo-qIMmY"
      },
      "source": [
        "sig_model.compile(\n",
        "    optimizer = 'rmsprop',\n",
        "    loss = 'categorical_crossentropy',\n",
        "    metrics = ['accuracy']\n",
        ")"
      ],
      "execution_count": null,
      "outputs": []
    },
    {
      "cell_type": "code",
      "metadata": {
        "id": "OLfaRlf9IMj5",
        "colab": {
          "base_uri": "https://localhost:8080/",
          "height": 363
        },
        "outputId": "a9d55b9f-f105-4c35-c0f1-517d5defdeb6"
      },
      "source": [
        "sig_history = sig_model.fit_generator(\n",
        "        train_generator,\n",
        "        steps_per_epoch = steps,\n",
        "        epochs = 10,\n",
        "        validation_data = (X_test, y_test)\n",
        ")"
      ],
      "execution_count": null,
      "outputs": [
        {
          "output_type": "stream",
          "text": [
            "Epoch 1/10\n",
            "781/781 [==============================] - 14s 19ms/step - loss: 1.6497 - accuracy: 0.4367 - val_loss: 1.4280 - val_accuracy: 0.4914\n",
            "Epoch 2/10\n",
            "781/781 [==============================] - 14s 18ms/step - loss: 1.2050 - accuracy: 0.5837 - val_loss: 1.4248 - val_accuracy: 0.5600\n",
            "Epoch 3/10\n",
            "781/781 [==============================] - 14s 18ms/step - loss: 1.0516 - accuracy: 0.6402 - val_loss: 1.6557 - val_accuracy: 0.5550\n",
            "Epoch 4/10\n",
            "781/781 [==============================] - 14s 18ms/step - loss: 0.9854 - accuracy: 0.6620 - val_loss: 1.4583 - val_accuracy: 0.5523\n",
            "Epoch 5/10\n",
            "781/781 [==============================] - 14s 18ms/step - loss: 0.9222 - accuracy: 0.6868 - val_loss: 1.2616 - val_accuracy: 0.5979\n",
            "Epoch 6/10\n",
            "781/781 [==============================] - 14s 18ms/step - loss: 0.8852 - accuracy: 0.6987 - val_loss: 1.3785 - val_accuracy: 0.5992\n",
            "Epoch 7/10\n",
            "781/781 [==============================] - 14s 18ms/step - loss: 0.8506 - accuracy: 0.7108 - val_loss: 1.1331 - val_accuracy: 0.6126\n",
            "Epoch 8/10\n",
            "781/781 [==============================] - 14s 18ms/step - loss: 0.8048 - accuracy: 0.7271 - val_loss: 0.9885 - val_accuracy: 0.6696\n",
            "Epoch 9/10\n",
            "781/781 [==============================] - 14s 18ms/step - loss: 0.7908 - accuracy: 0.7278 - val_loss: 1.0459 - val_accuracy: 0.6615\n",
            "Epoch 10/10\n",
            "781/781 [==============================] - 14s 18ms/step - loss: 0.7647 - accuracy: 0.7398 - val_loss: 1.2083 - val_accuracy: 0.6422\n"
          ],
          "name": "stdout"
        }
      ]
    },
    {
      "cell_type": "code",
      "metadata": {
        "id": "NzlQ_07XIMcP",
        "colab": {
          "base_uri": "https://localhost:8080/",
          "height": 295
        },
        "outputId": "1e69973b-b3a3-4297-dc7d-b8583b8fa4bc"
      },
      "source": [
        "loss = sig_history.history['loss']\n",
        "val_loss = sig_history.history['val_loss']\n",
        "epochs = range(1, len(loss) + 1)\n",
        "plt.plot(epochs, loss, 'y', label='Training loss')\n",
        "plt.plot(epochs, val_loss, 'r', label='Validation loss')\n",
        "plt.title('Training and validation loss')\n",
        "plt.xlabel('Epochs')\n",
        "plt.ylabel('Loss')\n",
        "plt.legend()\n",
        "plt.show()"
      ],
      "execution_count": null,
      "outputs": [
        {
          "output_type": "display_data",
          "data": {
            "image/png": "[encoded data removed]",
            "text/plain": [
              "<Figure size 432x288 with 1 Axes>"
            ]
          },
          "metadata": {
            "tags": [],
            "needs_background": "dark"
          }
        }
      ]
    },
    {
      "cell_type": "code",
      "metadata": {
        "id": "tWBcsbzFIMX7",
        "colab": {
          "base_uri": "https://localhost:8080/",
          "height": 295
        },
        "outputId": "3276fb4f-0153-45a3-e3aa-d7e83014c289"
      },
      "source": [
        "\n",
        "\n",
        "acc = sig_history.history['accuracy']\n",
        "val_acc = sig_history.history['val_accuracy']\n",
        "plt.plot(epochs, acc, 'y', label='Training acc')\n",
        "plt.plot(epochs, val_acc, 'r', label='Validation acc')\n",
        "plt.title('Training and validation accuracy')\n",
        "plt.xlabel('Epochs')\n",
        "plt.ylabel('Accuracy')\n",
        "plt.legend()\n",
        "plt.show()"
      ],
      "execution_count": null,
      "outputs": [
        {
          "output_type": "display_data",
          "data": {
            "image/png": "[encoded data removed]",
            "text/plain": [
              "<Figure size 432x288 with 1 Axes>"
            ]
          },
          "metadata": {
            "tags": [],
            "needs_background": "dark"
          }
        }
      ]
    },
    {
      "cell_type": "code",
      "metadata": {
        "id": "njtX-50aKe3I"
      },
      "source": [
        ""
      ],
      "execution_count": null,
      "outputs": []
    }
  ]
}