{
  "nbformat": 4,
  "nbformat_minor": 0,
  "metadata": {
    "colab": {
      "name": "signature_ver.ipynb",
      "provenance": [],
      "collapsed_sections": [],
      "mount_file_id": "1grtVK4aL0RLkpopEbX0x0vi4LDtHdbyw",
      "authorship_tag": "ABX9TyPYRIOkUBK9iDKAFykpeHkm",
      "include_colab_link": true
    },
    "kernelspec": {
      "name": "python3",
      "display_name": "Python 3"
    }
  },
  "cells": [
    {
      "cell_type": "markdown",
      "metadata": {
        "id": "view-in-github",
        "colab_type": "text"
      },
      "source": [
        "<a href=\"https://colab.research.google.com/github/anujatayal/Colab-Notebooks/blob/main/signature_ver.ipynb\" target=\"_parent\"><img src=\"https://colab.research.google.com/assets/colab-badge.svg\" alt=\"Open In Colab\"/></a>"
      ]
    },
    {
      "cell_type": "code",
      "metadata": {
        "id": "97DUMlVXTz3T"
      },
      "source": [
        "from torch.nn import Linear, Conv2d, MaxPool2d, LocalResponseNorm, Dropout\n",
        "from torch.nn.functional import relu\n",
        "from torch.nn import Module\n",
        "from PIL import Image\n",
        "from PIL.ImageOps import invert\n",
        "import numpy as np\n",
        "from torch.tensor import Tensor\n",
        "from torch.utils.data import Dataset\n",
        "from random import randrange\n",
        "from sklearn.model_selection import train_test_split\n",
        "import pickle\n",
        "from torch import save\n",
        "from torch.optim import Adam\n",
        "import torch.nn.functional as F\n",
        "import torch\n",
        "from torch.utils.data import DataLoader"
      ],
      "execution_count": null,
      "outputs": []
    },
    {
      "cell_type": "code",
      "metadata": {
        "colab": {
          "base_uri": "https://localhost:8080/"
        },
        "id": "HkggEZ9bUoP1",
        "outputId": "05071e00-7c50-4df6-9d51-75c2bcf2c515"
      },
      "source": [
        "from google.colab import drive\n",
        "drive.mount('/content/drive')"
      ],
      "execution_count": null,
      "outputs": [
        {
          "output_type": "stream",
          "text": [
            "Mounted at /content/drive\n"
          ],
          "name": "stdout"
        }
      ]
    },
    {
      "cell_type": "code",
      "metadata": {
        "id": "MXdqccHQUIfS"
      },
      "source": [
        "def invert_image(path):\n",
        "\timage_file = Image.open(path) # open colour image\n",
        "\timage_file = image_file.convert('L').resize([220, 155])\n",
        "\timage_file = invert(image_file)\n",
        "\timage_array = np.array(image_file)\n",
        "\tfor i in range(image_array.shape[0]):\n",
        "\t\tfor j in range(image_array.shape[1]):\n",
        "\t\t\tif image_array[i][j]<=50:\n",
        "\t\t\t\timage_array[i][j]=0\n",
        "\t\t\telse:\n",
        "\t\t\t\timage_array[i][j]=255\n",
        "\treturn image_array\n",
        "\n",
        "def convert_to_image_tensor(image_array):\n",
        "\timage_array = image_array/255.0\n",
        "\treturn Tensor(image_array).view(1, 220, 155)\n",
        "\n",
        "base_path_org = 'full_org/original_%d_%d.png'\n",
        "base_path_forg = 'full_forg/forgeries_%d_%d.png'\n",
        "\n",
        "def fix_pair(x, y):\n",
        "\tif x == y:\n",
        "\t\treturn fix_pair(x, randrange(1, 24))\n",
        "\telse:\n",
        "\t\treturn x, y\n",
        "\n",
        "data = []\n",
        "n_samples_of_each_class = 900\n",
        "\n",
        "prefix ='/content/drive/My Drive/'\n",
        "\n",
        "for _ in range(n_samples_of_each_class):\n",
        "\tanchor_person = randrange(1, 24)\n",
        "\tanchor_sign = randrange(1, 24)\n",
        "\tpos_sign = randrange(1, 24)\n",
        "\tanchor_sign, pos_sign = fix_pair(anchor_sign, pos_sign)\n",
        "\tneg_sign = randrange(1, 24)\n",
        "\tpositive = [base_path_org%(anchor_person, anchor_sign), base_path_org%(anchor_person, pos_sign), 1]\n",
        "\tnegative = [base_path_org%(anchor_person, anchor_sign), base_path_forg%(anchor_person, neg_sign), 0]\n",
        "\tdata.append(positive)\n",
        "\tdata.append(negative)\n",
        "\n",
        "\n",
        "train, test = train_test_split(data, test_size=0.15)\n",
        "with open('train_index.pkl', 'wb') as train_index_file:\n",
        "\tpickle.dump(train, train_index_file)\n",
        "\n",
        "with open('test_index.pkl', 'wb') as test_index_file:\n",
        "\tpickle.dump(test, test_index_file)\n",
        "\n",
        "\n",
        "class TrainDataset(Dataset):\n",
        "\n",
        "\tdef __init__(self):\n",
        "\t\twith open('train_index.pkl', 'rb') as train_index_file:\n",
        "\t\t\tself.pairs = pickle.load(train_index_file)\n",
        "\n",
        "\tdef __getitem__(self, index):\n",
        "\t\titem = self.pairs[index]\n",
        "\t\tX = convert_to_image_tensor(invert_image(prefix+item[0]))\n",
        "\t\tY = convert_to_image_tensor(invert_image(prefix+item[1]))\n",
        "\t\treturn [X, Y, item[2]]\n",
        "\n",
        "\tdef __len__(self):\n",
        "\t\treturn len(self.pairs)\n",
        "\n",
        "\n",
        "class TestDataset(Dataset):\n",
        "\n",
        "\tdef __init__(self):\n",
        "\t\twith open('test_index.pkl', 'rb') as test_index_file:\n",
        "\t\t\tself.pairs = pickle.load(test_index_file)\n",
        "\n",
        "\tdef __getitem__(self, index):\n",
        "\t\titem = self.pairs[index]\n",
        "\t\tX = convert_to_image_tensor(invert_image(prefix+item[0]))\n",
        "\t\tY = convert_to_image_tensor(invert_image(prefix+item[1]))\n",
        "\t\treturn [X, Y, item[2]]\n",
        "\n",
        "\tdef __len__(self):\n",
        "\t\treturn len(self.pairs)\n",
        "  \n",
        "\n",
        "class SiameseConvNet(Module):\n",
        "\tdef __init__(self):\n",
        "\t\tsuper().__init__()\n",
        "\t\tself.conv1 = Conv2d(1, 48, kernel_size=(11, 11), stride=1)\n",
        "\t\tself.lrn1 = LocalResponseNorm(48, alpha=1e-4, beta=0.75, k=2)\n",
        "\t\tself.pool1 = MaxPool2d(kernel_size=(3, 3), stride=2)\n",
        "\t\tself.conv2 = Conv2d(48, 128, kernel_size=(5, 5), stride=1, padding=2)\n",
        "\t\tself.lrn2 = LocalResponseNorm(128, alpha=1e-4, beta=0.75, k=2)\n",
        "\t\tself.pool2 = MaxPool2d(kernel_size=(3, 3), stride=2)\n",
        "\t\tself.dropout1 = Dropout(0.3)\n",
        "\t\tself.conv3 = Conv2d(128, 256, kernel_size=(3, 3), stride=1, padding=1)\n",
        "\t\tself.conv4 = Conv2d(256, 96, kernel_size=(3, 3), stride=1, padding=1)\n",
        "\t\tself.pool3 = MaxPool2d(kernel_size=(3,3), stride=2)\n",
        "\t\tself.dropout2 = Dropout(0.3)\n",
        "\t\tself.fc1 = Linear(25 * 17 * 96, 1024)\n",
        "\t\tself.dropout3 = Dropout(0.5)\n",
        "\t\tself.fc2 = Linear(1024, 128)\n",
        "\n",
        "\tdef forward_once(self, x):\n",
        "\t\tx = relu(self.conv1(x))\n",
        "\t\tx = self.lrn1(x)\n",
        "\t\tx = self.pool1(x)\n",
        "\t\tx = relu(self.conv2(x))\n",
        "\t\tx = self.lrn2(x)\n",
        "\t\tx = self.pool2(x)\n",
        "\t\tx = self.dropout1(x)\n",
        "\t\tx = relu(self.conv3(x))\n",
        "\t\tx = relu(self.conv4(x))\n",
        "\t\tx = self.pool3(x)\n",
        "\t\tx = self.dropout2(x)\n",
        "\t\tx = x.view(-1, 17 * 25 * 96)\n",
        "\t\tx = relu(self.fc1(x))\n",
        "\t\tx = self.dropout3(x)\n",
        "\t\tx = relu(self.fc2(x))\n",
        "\t\treturn x\n",
        "\n",
        "\tdef forward(self, x, y):\n",
        "\t\tf_x = self.forward_once(x)\n",
        "\t\tf_y = self.forward_once(y)\n",
        "\t\treturn f_x, f_y\n",
        "\n",
        "\n",
        "def distance_metric(features_A, features_B):\n",
        "\tbatch_losses = F.pairwise_distance(features_A, features_B)\n",
        "\treturn batch_losses\n",
        "\n",
        "\n",
        "class ContrastiveLoss(torch.nn.Module):\n",
        "\n",
        "\tdef __init__(self, margin=2.0):\n",
        "\t\tsuper(ContrastiveLoss, self).__init__()\n",
        "\t\tself.margin = margin\n",
        "\n",
        "\tdef forward(self, output1, output2, label):\n",
        "\t\teuclidean_distance = F.pairwise_distance(output1, output2)\n",
        "\t\tloss_contrastive = torch.mean((1 - label) * torch.pow(euclidean_distance, 2) +\n",
        "\t\t\t\t\t\t\t\t\t  (label) * torch.pow(torch.clamp(self.margin - euclidean_distance, min=0.0), 2))\n",
        "\n",
        "\t\treturn loss_contrastive"
      ],
      "execution_count": null,
      "outputs": []
    },
    {
      "cell_type": "code",
      "metadata": {
        "colab": {
          "base_uri": "https://localhost:8080/"
        },
        "id": "EOgOolZRUPVb",
        "outputId": "f891c8fe-d90b-4550-bc56-7876b72992f9"
      },
      "source": [
        "model = SiameseConvNet()\n",
        "criterion = ContrastiveLoss()\n",
        "optimizer = Adam(model.parameters())\n",
        "\n",
        "train_dataset = TrainDataset()\n",
        "train_loader = DataLoader(train_dataset, batch_size=24, shuffle=False)\n",
        "\n",
        "\n",
        "def checkpoint(epoch):\n",
        "\tfile_path = \"model_epoch_%d\" % epoch\n",
        "\twith open(file_path, 'wb') as f:\n",
        "\t\tsave(model.state_dict(), f)\n",
        "\n",
        "\n",
        "def train(epoch):\n",
        "\tfor batch_index, data in enumerate(train_loader):\n",
        "\t\tA = data[0]\n",
        "\t\tB = data[1]\n",
        "\t\toptimizer.zero_grad()\n",
        "\t\tlabel = data[2].float()\n",
        "\t\tf_A, f_B = model.forward(A, B)\n",
        "\t\tloss = criterion(f_A, f_B, label)\n",
        "\t\tprint('Epoch {}, batch {}, loss={}'.format(epoch, batch_index, loss.item()))\n",
        "\t\tloss.backward()\n",
        "\t\toptimizer.step()\n",
        "\n",
        "\n",
        "for e in range(1, 7):\n",
        "\ttrain(e)\n",
        "\tcheckpoint(e)"
      ],
      "execution_count": null,
      "outputs": [
        {
          "output_type": "stream",
          "text": [
            "Epoch 1, batch 0, loss=1.5821455717086792\n",
            "Epoch 1, batch 1, loss=50.86162185668945\n",
            "Epoch 1, batch 2, loss=0.980501115322113\n",
            "Epoch 1, batch 3, loss=1.2200438976287842\n",
            "Epoch 1, batch 4, loss=1.7034302949905396\n",
            "Epoch 1, batch 5, loss=1.3620580434799194\n",
            "Epoch 1, batch 6, loss=1.442602276802063\n",
            "Epoch 1, batch 7, loss=0.9836480021476746\n",
            "Epoch 1, batch 8, loss=1.0113004446029663\n",
            "Epoch 1, batch 9, loss=1.1311115026474\n",
            "Epoch 1, batch 10, loss=1.0676313638687134\n",
            "Epoch 1, batch 11, loss=1.0437513589859009\n",
            "Epoch 1, batch 12, loss=1.014500379562378\n",
            "Epoch 1, batch 13, loss=1.022737741470337\n",
            "Epoch 1, batch 14, loss=1.1183412075042725\n",
            "Epoch 1, batch 15, loss=1.0407766103744507\n",
            "Epoch 1, batch 16, loss=1.1000542640686035\n",
            "Epoch 1, batch 17, loss=0.8711190819740295\n",
            "Epoch 1, batch 18, loss=1.3031693696975708\n",
            "Epoch 1, batch 19, loss=1.0185809135437012\n",
            "Epoch 1, batch 20, loss=1.0427937507629395\n",
            "Epoch 1, batch 21, loss=0.9582226872444153\n",
            "Epoch 1, batch 22, loss=1.1332906484603882\n",
            "Epoch 1, batch 23, loss=1.0157124996185303\n",
            "Epoch 1, batch 24, loss=1.0171927213668823\n",
            "Epoch 1, batch 25, loss=1.129684329032898\n",
            "Epoch 1, batch 26, loss=0.9709711670875549\n",
            "Epoch 1, batch 27, loss=1.031219720840454\n",
            "Epoch 1, batch 28, loss=0.9871864914894104\n",
            "Epoch 1, batch 29, loss=0.9716169238090515\n",
            "Epoch 1, batch 30, loss=1.0446161031723022\n",
            "Epoch 1, batch 31, loss=1.0409936904907227\n",
            "Epoch 1, batch 32, loss=1.0448431968688965\n",
            "Epoch 1, batch 33, loss=1.0971940755844116\n",
            "Epoch 1, batch 34, loss=0.9612168669700623\n",
            "Epoch 1, batch 35, loss=1.0271363258361816\n",
            "Epoch 1, batch 36, loss=0.9594443440437317\n",
            "Epoch 1, batch 37, loss=0.9133846759796143\n",
            "Epoch 1, batch 38, loss=1.0039535760879517\n",
            "Epoch 1, batch 39, loss=0.8874704837799072\n",
            "Epoch 1, batch 40, loss=1.269748568534851\n",
            "Epoch 1, batch 41, loss=0.9081218838691711\n",
            "Epoch 1, batch 42, loss=0.955045759677887\n",
            "Epoch 1, batch 43, loss=0.9604144096374512\n",
            "Epoch 1, batch 44, loss=0.9330149292945862\n",
            "Epoch 1, batch 45, loss=1.030042052268982\n",
            "Epoch 1, batch 46, loss=0.958573579788208\n",
            "Epoch 1, batch 47, loss=1.0192731618881226\n",
            "Epoch 1, batch 48, loss=0.9723618626594543\n",
            "Epoch 1, batch 49, loss=0.9352495670318604\n",
            "Epoch 1, batch 50, loss=1.002031683921814\n",
            "Epoch 1, batch 51, loss=1.0438323020935059\n",
            "Epoch 1, batch 52, loss=0.9289113879203796\n",
            "Epoch 1, batch 53, loss=0.9381353259086609\n",
            "Epoch 1, batch 54, loss=1.0835758447647095\n",
            "Epoch 1, batch 55, loss=1.0384818315505981\n",
            "Epoch 1, batch 56, loss=1.0279985666275024\n",
            "Epoch 1, batch 57, loss=0.9413465857505798\n",
            "Epoch 1, batch 58, loss=0.9901055693626404\n",
            "Epoch 1, batch 59, loss=1.0199764966964722\n",
            "Epoch 1, batch 60, loss=0.9644215703010559\n",
            "Epoch 1, batch 61, loss=1.0006815195083618\n",
            "Epoch 1, batch 62, loss=0.9554055333137512\n",
            "Epoch 1, batch 63, loss=1.1304985284805298\n",
            "Epoch 2, batch 0, loss=1.1653538942337036\n",
            "Epoch 2, batch 1, loss=1.18942391872406\n",
            "Epoch 2, batch 2, loss=1.2212942838668823\n",
            "Epoch 2, batch 3, loss=1.1274126768112183\n",
            "Epoch 2, batch 4, loss=0.9609315991401672\n",
            "Epoch 2, batch 5, loss=1.0183284282684326\n",
            "Epoch 2, batch 6, loss=1.0097533464431763\n",
            "Epoch 2, batch 7, loss=0.9605763554573059\n",
            "Epoch 2, batch 8, loss=0.8420343995094299\n",
            "Epoch 2, batch 9, loss=1.1804708242416382\n",
            "Epoch 2, batch 10, loss=1.0894719362258911\n",
            "Epoch 2, batch 11, loss=0.9983064532279968\n",
            "Epoch 2, batch 12, loss=1.042939305305481\n",
            "Epoch 2, batch 13, loss=0.9871171116828918\n",
            "Epoch 2, batch 14, loss=0.9867698550224304\n",
            "Epoch 2, batch 15, loss=1.0070914030075073\n"
          ],
          "name": "stdout"
        }
      ]
    },
    {
      "cell_type": "code",
      "metadata": {
        "colab": {
          "base_uri": "https://localhost:8080/"
        },
        "id": "gDR2nXzUU_jA",
        "outputId": "7c83a67c-14c0-4272-82d6-fa38b8a0844c"
      },
      "source": [
        "ls /content/drive/My\\ Drive/full_org"
      ],
      "execution_count": null,
      "outputs": [
        {
          "output_type": "stream",
          "text": [
            "original_1_10.png  original_2_19.png  original_3_4.png   original_5_13.png\n",
            "original_1_11.png  original_2_1.png   original_3_5.png   original_5_14.png\n",
            "original_1_12.png  original_2_20.png  original_3_6.png   original_5_15.png\n",
            "original_1_13.png  original_2_21.png  original_3_7.png   original_5_16.png\n",
            "original_1_14.png  original_2_22.png  original_3_8.png   original_5_17.png\n",
            "original_1_15.png  original_2_23.png  original_3_9.png   original_5_18.png\n",
            "original_1_16.png  original_2_24.png  original_4_10.png  original_5_19.png\n",
            "original_1_17.png  original_2_2.png   original_4_11.png  original_5_1.png\n",
            "original_1_18.png  original_2_3.png   original_4_12.png  original_5_20.png\n",
            "original_1_19.png  original_2_4.png   original_4_13.png  original_5_21.png\n",
            "original_1_1.png   original_2_5.png   original_4_14.png  original_5_22.png\n",
            "original_1_20.png  original_2_6.png   original_4_15.png  original_5_23.png\n",
            "original_1_21.png  original_2_7.png   original_4_16.png  original_5_24.png\n",
            "original_1_22.png  original_2_8.png   original_4_17.png  original_5_2.png\n",
            "original_1_23.png  original_2_9.png   original_4_18.png  original_5_3.png\n",
            "original_1_24.png  original_3_10.png  original_4_19.png  original_5_4.png\n",
            "original_1_2.png   original_3_11.png  original_4_1.png   original_5_5.png\n",
            "original_1_3.png   original_3_12.png  original_4_20.png  original_5_6.png\n",
            "original_1_4.png   original_3_13.png  original_4_21.png  original_5_7.png\n",
            "original_1_5.png   original_3_14.png  original_4_22.png  original_5_8.png\n",
            "original_1_6.png   original_3_15.png  original_4_23.png  original_5_9.png\n",
            "original_1_7.png   original_3_16.png  original_4_24.png  original_6_10.png\n",
            "original_1_8.png   original_3_17.png  original_4_2.png   original_6_11.png\n",
            "original_1_9.png   original_3_18.png  original_4_3.png   original_6_12.png\n",
            "original_2_10.png  original_3_19.png  original_4_4.png   original_6_1.png\n",
            "original_2_11.png  original_3_1.png   original_4_5.png   original_6_2.png\n",
            "original_2_12.png  original_3_20.png  original_4_6.png   original_6_3.png\n",
            "original_2_13.png  original_3_21.png  original_4_7.png   original_6_4.png\n",
            "original_2_14.png  original_3_22.png  original_4_8.png   original_6_5.png\n",
            "original_2_15.png  original_3_23.png  original_4_9.png   original_6_6.png\n",
            "original_2_16.png  original_3_24.png  original_5_10.png  original_6_7.png\n",
            "original_2_17.png  original_3_2.png   original_5_11.png  original_6_8.png\n",
            "original_2_18.png  original_3_3.png   original_5_12.png  original_6_9.png\n"
          ],
          "name": "stdout"
        }
      ]
    },
    {
      "cell_type": "code",
      "metadata": {
        "colab": {
          "base_uri": "https://localhost:8080/"
        },
        "id": "AcPvdtr4WTAL",
        "outputId": "996ef801-4eb3-4a95-aab4-fef317d00052"
      },
      "source": [
        "ls /content/"
      ],
      "execution_count": null,
      "outputs": [
        {
          "output_type": "stream",
          "text": [
            "\u001b[0m\u001b[01;34mdrive\u001b[0m/  \u001b[01;34msample_data\u001b[0m/  test_index.pkl  train_index.pkl\n"
          ],
          "name": "stdout"
        }
      ]
    },
    {
      "cell_type": "code",
      "metadata": {
        "colab": {
          "base_uri": "https://localhost:8080/"
        },
        "id": "BN7G_JlAVDn6",
        "outputId": "11f250e1-b986-45fb-ff97-5acb5171dea4"
      },
      "source": [
        "ls drive/MyDrive/full_org/"
      ],
      "execution_count": null,
      "outputs": [
        {
          "output_type": "stream",
          "text": [
            "original_1_10.png  original_2_19.png  original_3_4.png   original_5_13.png\n",
            "original_1_11.png  original_2_1.png   original_3_5.png   original_5_14.png\n",
            "original_1_12.png  original_2_20.png  original_3_6.png   original_5_15.png\n",
            "original_1_13.png  original_2_21.png  original_3_7.png   original_5_16.png\n",
            "original_1_14.png  original_2_22.png  original_3_8.png   original_5_17.png\n",
            "original_1_15.png  original_2_23.png  original_3_9.png   original_5_18.png\n",
            "original_1_16.png  original_2_24.png  original_4_10.png  original_5_19.png\n",
            "original_1_17.png  original_2_2.png   original_4_11.png  original_5_1.png\n",
            "original_1_18.png  original_2_3.png   original_4_12.png  original_5_20.png\n",
            "original_1_19.png  original_2_4.png   original_4_13.png  original_5_21.png\n",
            "original_1_1.png   original_2_5.png   original_4_14.png  original_5_22.png\n",
            "original_1_20.png  original_2_6.png   original_4_15.png  original_5_23.png\n",
            "original_1_21.png  original_2_7.png   original_4_16.png  original_5_24.png\n",
            "original_1_22.png  original_2_8.png   original_4_17.png  original_5_2.png\n",
            "original_1_23.png  original_2_9.png   original_4_18.png  original_5_3.png\n",
            "original_1_24.png  original_3_10.png  original_4_19.png  original_5_4.png\n",
            "original_1_2.png   original_3_11.png  original_4_1.png   original_5_5.png\n",
            "original_1_3.png   original_3_12.png  original_4_20.png  original_5_6.png\n",
            "original_1_4.png   original_3_13.png  original_4_21.png  original_5_7.png\n",
            "original_1_5.png   original_3_14.png  original_4_22.png  original_5_8.png\n",
            "original_1_6.png   original_3_15.png  original_4_23.png  original_5_9.png\n",
            "original_1_7.png   original_3_16.png  original_4_24.png  original_6_10.png\n",
            "original_1_8.png   original_3_17.png  original_4_2.png   original_6_11.png\n",
            "original_1_9.png   original_3_18.png  original_4_3.png   original_6_12.png\n",
            "original_2_10.png  original_3_19.png  original_4_4.png   original_6_1.png\n",
            "original_2_11.png  original_3_1.png   original_4_5.png   original_6_2.png\n",
            "original_2_12.png  original_3_20.png  original_4_6.png   original_6_3.png\n",
            "original_2_13.png  original_3_21.png  original_4_7.png   original_6_4.png\n",
            "original_2_14.png  original_3_22.png  original_4_8.png   original_6_5.png\n",
            "original_2_15.png  original_3_23.png  original_4_9.png   original_6_6.png\n",
            "original_2_16.png  original_3_24.png  original_5_10.png  original_6_7.png\n",
            "original_2_17.png  original_3_2.png   original_5_11.png  original_6_8.png\n",
            "original_2_18.png  original_3_3.png   original_5_12.png  original_6_9.png\n"
          ],
          "name": "stdout"
        }
      ]
    },
    {
      "cell_type": "code",
      "metadata": {
        "id": "nTX4WqEFVxug"
      },
      "source": [
        ""
      ],
      "execution_count": null,
      "outputs": []
    }
  ]
}